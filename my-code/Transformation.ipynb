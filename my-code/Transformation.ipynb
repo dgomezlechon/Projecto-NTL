{
 "cells": [
  {
   "cell_type": "markdown",
   "id": "43d38b35",
   "metadata": {},
   "source": [
    "# Transformación de tablas"
   ]
  },
  {
   "cell_type": "markdown",
   "id": "95cea5ed",
   "metadata": {},
   "source": [
    "Llamos a los dataframes para poder utilizarlos"
   ]
  },
  {
   "cell_type": "code",
   "execution_count": 134,
   "id": "2a8097ea",
   "metadata": {},
   "outputs": [],
   "source": [
    "%store -r apple_price\n",
    "%store -r microsoft_price\n",
    "%store -r twitter_price\n",
    "%store -r apple_earnings\n",
    "%store -r microsoft_earnings\n",
    "%store -r twitter_earnings"
   ]
  },
  {
   "cell_type": "code",
   "execution_count": 142,
   "id": "cf44a465",
   "metadata": {},
   "outputs": [],
   "source": [
    "import pandas as pd\n",
    "import warnings\n",
    "warnings.filterwarnings('ignore')"
   ]
  },
  {
   "cell_type": "markdown",
   "id": "06e6f85e",
   "metadata": {},
   "source": [
    "## Tablas earnings"
   ]
  },
  {
   "cell_type": "markdown",
   "id": "cce4f6cc",
   "metadata": {},
   "source": [
    "A estas tablas queremos quitarles el símbolo del dolar a los valores de EPS y queremos establecer los tipos de datos de las columnas"
   ]
  },
  {
   "cell_type": "code",
   "execution_count": 135,
   "id": "3ceba170",
   "metadata": {},
   "outputs": [],
   "source": [
    "earnings_list=[apple_earnings,microsoft_earnings,twitter_earnings]\n",
    "for i in earnings_list:\n",
    "    quitar_dolar(i)"
   ]
  },
  {
   "cell_type": "code",
   "execution_count": 70,
   "id": "9059f547",
   "metadata": {},
   "outputs": [],
   "source": [
    "# las columnas datetime se quedan como objeto no se muy bien por que, luego volvemos a esta función "
   ]
  },
  {
   "cell_type": "code",
   "execution_count": 136,
   "id": "c33856b7",
   "metadata": {},
   "outputs": [],
   "source": [
    "def cambiar_tipo_datos(frame):\n",
    "    \n",
    "    columns=frame.columns\n",
    "\n",
    "    for i in range(0,2):\n",
    "        pd.to_datetime(frame[columns[i]], format='%Y-%m-%d')\n",
    "        \n",
    "    for i in range(2,4):\n",
    "        frame[columns[i]]=frame[columns[i]].astype(dtype=\"float\")\n",
    "    \n",
    "        "
   ]
  },
  {
   "cell_type": "code",
   "execution_count": 137,
   "id": "63c40896",
   "metadata": {},
   "outputs": [],
   "source": [
    "\n",
    "for i in earnings_list:\n",
    "    cambiar_tipo_datos(i)"
   ]
  },
  {
   "cell_type": "markdown",
   "id": "c7e4f055",
   "metadata": {},
   "source": [
    "## Tablas price"
   ]
  },
  {
   "cell_type": "markdown",
   "id": "651e4509",
   "metadata": {},
   "source": [
    "Primero quedemos poner todos los valores como float a excepción de la fecha"
   ]
  },
  {
   "cell_type": "code",
   "execution_count": 179,
   "id": "a1d4a8ed",
   "metadata": {},
   "outputs": [],
   "source": [
    "prices_list=[apple_price,twitter_price,microsoft_price]\n",
    "\n",
    "for i in prices_list:\n",
    "    \n",
    "    cambiar_tipo_datos2(i)"
   ]
  },
  {
   "cell_type": "markdown",
   "id": "ab75f7c6",
   "metadata": {},
   "source": [
    "Ahora voy a añadir una columna que se llame price change que calcule como ha cambiado el precio respecto al precio de cierre del día anterior"
   ]
  },
  {
   "cell_type": "code",
   "execution_count": 152,
   "id": "c176d37c",
   "metadata": {},
   "outputs": [],
   "source": [
    "col_price_change(prices_list)"
   ]
  },
  {
   "cell_type": "markdown",
   "id": "f6d2cfc1",
   "metadata": {},
   "source": [
    "Vamos a redondear los valores a dos puntos decimales"
   ]
  },
  {
   "cell_type": "code",
   "execution_count": 180,
   "id": "add9236d",
   "metadata": {},
   "outputs": [],
   "source": [
    "for j in range(len(prices_list)):\n",
    "    \n",
    "    columnas=prices_list[j].columns\n",
    "\n",
    "    for i in columnas:\n",
    "        \n",
    "        if i!=\"Date\":\n",
    "        \n",
    "            prices_list[j][i]=prices_list[j][i].round(decimals=2)\n",
    "    \n",
    "\n",
    "    "
   ]
  },
  {
   "cell_type": "code",
   "execution_count": 184,
   "id": "689facf3",
   "metadata": {},
   "outputs": [
    {
     "data": {
      "text/html": [
       "<div>\n",
       "<style scoped>\n",
       "    .dataframe tbody tr th:only-of-type {\n",
       "        vertical-align: middle;\n",
       "    }\n",
       "\n",
       "    .dataframe tbody tr th {\n",
       "        vertical-align: top;\n",
       "    }\n",
       "\n",
       "    .dataframe thead th {\n",
       "        text-align: right;\n",
       "    }\n",
       "</style>\n",
       "<table border=\"1\" class=\"dataframe\">\n",
       "  <thead>\n",
       "    <tr style=\"text-align: right;\">\n",
       "      <th></th>\n",
       "      <th>Date</th>\n",
       "      <th>Open</th>\n",
       "      <th>High</th>\n",
       "      <th>Low</th>\n",
       "      <th>Close</th>\n",
       "      <th>Adj Close</th>\n",
       "      <th>Volume</th>\n",
       "      <th>Price_change</th>\n",
       "    </tr>\n",
       "  </thead>\n",
       "  <tbody>\n",
       "    <tr>\n",
       "      <th>0</th>\n",
       "      <td>2015-01-02</td>\n",
       "      <td>46.66</td>\n",
       "      <td>47.42</td>\n",
       "      <td>46.54</td>\n",
       "      <td>46.76</td>\n",
       "      <td>41.11</td>\n",
       "      <td>27913900.0</td>\n",
       "      <td>0.00</td>\n",
       "    </tr>\n",
       "    <tr>\n",
       "      <th>1</th>\n",
       "      <td>2015-01-05</td>\n",
       "      <td>46.37</td>\n",
       "      <td>46.73</td>\n",
       "      <td>46.25</td>\n",
       "      <td>46.33</td>\n",
       "      <td>40.73</td>\n",
       "      <td>39673900.0</td>\n",
       "      <td>-0.92</td>\n",
       "    </tr>\n",
       "    <tr>\n",
       "      <th>2</th>\n",
       "      <td>2015-01-06</td>\n",
       "      <td>46.38</td>\n",
       "      <td>46.75</td>\n",
       "      <td>45.54</td>\n",
       "      <td>45.65</td>\n",
       "      <td>40.13</td>\n",
       "      <td>36447900.0</td>\n",
       "      <td>-1.47</td>\n",
       "    </tr>\n",
       "    <tr>\n",
       "      <th>3</th>\n",
       "      <td>2015-01-07</td>\n",
       "      <td>45.98</td>\n",
       "      <td>46.46</td>\n",
       "      <td>45.49</td>\n",
       "      <td>46.23</td>\n",
       "      <td>40.64</td>\n",
       "      <td>29114100.0</td>\n",
       "      <td>1.27</td>\n",
       "    </tr>\n",
       "    <tr>\n",
       "      <th>4</th>\n",
       "      <td>2015-01-08</td>\n",
       "      <td>46.75</td>\n",
       "      <td>47.75</td>\n",
       "      <td>46.72</td>\n",
       "      <td>47.59</td>\n",
       "      <td>41.84</td>\n",
       "      <td>29645200.0</td>\n",
       "      <td>2.94</td>\n",
       "    </tr>\n",
       "    <tr>\n",
       "      <th>...</th>\n",
       "      <td>...</td>\n",
       "      <td>...</td>\n",
       "      <td>...</td>\n",
       "      <td>...</td>\n",
       "      <td>...</td>\n",
       "      <td>...</td>\n",
       "      <td>...</td>\n",
       "      <td>...</td>\n",
       "    </tr>\n",
       "    <tr>\n",
       "      <th>1830</th>\n",
       "      <td>2022-04-08</td>\n",
       "      <td>300.44</td>\n",
       "      <td>301.12</td>\n",
       "      <td>296.28</td>\n",
       "      <td>296.97</td>\n",
       "      <td>296.97</td>\n",
       "      <td>24347400.0</td>\n",
       "      <td>-1.46</td>\n",
       "    </tr>\n",
       "    <tr>\n",
       "      <th>1831</th>\n",
       "      <td>2022-04-11</td>\n",
       "      <td>291.79</td>\n",
       "      <td>292.61</td>\n",
       "      <td>285.00</td>\n",
       "      <td>285.26</td>\n",
       "      <td>285.26</td>\n",
       "      <td>34569300.0</td>\n",
       "      <td>-3.94</td>\n",
       "    </tr>\n",
       "    <tr>\n",
       "      <th>1832</th>\n",
       "      <td>2022-04-12</td>\n",
       "      <td>289.24</td>\n",
       "      <td>290.74</td>\n",
       "      <td>280.49</td>\n",
       "      <td>282.06</td>\n",
       "      <td>282.06</td>\n",
       "      <td>30966700.0</td>\n",
       "      <td>-1.12</td>\n",
       "    </tr>\n",
       "    <tr>\n",
       "      <th>1833</th>\n",
       "      <td>2022-04-13</td>\n",
       "      <td>282.73</td>\n",
       "      <td>288.58</td>\n",
       "      <td>281.30</td>\n",
       "      <td>287.62</td>\n",
       "      <td>287.62</td>\n",
       "      <td>21907200.0</td>\n",
       "      <td>1.97</td>\n",
       "    </tr>\n",
       "    <tr>\n",
       "      <th>1834</th>\n",
       "      <td>2022-04-14</td>\n",
       "      <td>288.09</td>\n",
       "      <td>288.31</td>\n",
       "      <td>279.32</td>\n",
       "      <td>279.83</td>\n",
       "      <td>279.83</td>\n",
       "      <td>28107900.0</td>\n",
       "      <td>-2.71</td>\n",
       "    </tr>\n",
       "  </tbody>\n",
       "</table>\n",
       "<p>1835 rows × 8 columns</p>\n",
       "</div>"
      ],
      "text/plain": [
       "            Date    Open    High     Low   Close  Adj Close      Volume  \\\n",
       "0     2015-01-02   46.66   47.42   46.54   46.76      41.11  27913900.0   \n",
       "1     2015-01-05   46.37   46.73   46.25   46.33      40.73  39673900.0   \n",
       "2     2015-01-06   46.38   46.75   45.54   45.65      40.13  36447900.0   \n",
       "3     2015-01-07   45.98   46.46   45.49   46.23      40.64  29114100.0   \n",
       "4     2015-01-08   46.75   47.75   46.72   47.59      41.84  29645200.0   \n",
       "...          ...     ...     ...     ...     ...        ...         ...   \n",
       "1830  2022-04-08  300.44  301.12  296.28  296.97     296.97  24347400.0   \n",
       "1831  2022-04-11  291.79  292.61  285.00  285.26     285.26  34569300.0   \n",
       "1832  2022-04-12  289.24  290.74  280.49  282.06     282.06  30966700.0   \n",
       "1833  2022-04-13  282.73  288.58  281.30  287.62     287.62  21907200.0   \n",
       "1834  2022-04-14  288.09  288.31  279.32  279.83     279.83  28107900.0   \n",
       "\n",
       "      Price_change  \n",
       "0             0.00  \n",
       "1            -0.92  \n",
       "2            -1.47  \n",
       "3             1.27  \n",
       "4             2.94  \n",
       "...            ...  \n",
       "1830         -1.46  \n",
       "1831         -3.94  \n",
       "1832         -1.12  \n",
       "1833          1.97  \n",
       "1834         -2.71  \n",
       "\n",
       "[1835 rows x 8 columns]"
      ]
     },
     "execution_count": 184,
     "metadata": {},
     "output_type": "execute_result"
    }
   ],
   "source": [
    "microsoft_price"
   ]
  },
  {
   "cell_type": "code",
   "execution_count": 166,
   "id": "b23635f6",
   "metadata": {},
   "outputs": [],
   "source": [
    "fnum = 7.154327\n",
    "\n",
    "res = \"{:.2f}\".format(fnum)"
   ]
  },
  {
   "cell_type": "code",
   "execution_count": 167,
   "id": "dbe934d6",
   "metadata": {},
   "outputs": [
    {
     "data": {
      "text/plain": [
       "'7.15'"
      ]
     },
     "execution_count": 167,
     "metadata": {},
     "output_type": "execute_result"
    }
   ],
   "source": [
    "res"
   ]
  },
  {
   "cell_type": "code",
   "execution_count": null,
   "id": "ca29e240",
   "metadata": {},
   "outputs": [],
   "source": []
  }
 ],
 "metadata": {
  "kernelspec": {
   "display_name": "Ironhack",
   "language": "python",
   "name": "ironhack"
  },
  "language_info": {
   "codemirror_mode": {
    "name": "ipython",
    "version": 3
   },
   "file_extension": ".py",
   "mimetype": "text/x-python",
   "name": "python",
   "nbconvert_exporter": "python",
   "pygments_lexer": "ipython3",
   "version": "3.9.7"
  }
 },
 "nbformat": 4,
 "nbformat_minor": 5
}
