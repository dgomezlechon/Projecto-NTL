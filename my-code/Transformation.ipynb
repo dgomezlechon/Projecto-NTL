{
 "cells": [
  {
   "cell_type": "markdown",
   "id": "50cf959e",
   "metadata": {},
   "source": [
    "# Transformación de tablas"
   ]
  },
  {
   "cell_type": "markdown",
   "id": "309f5501",
   "metadata": {},
   "source": [
    "Llamos a los dataframes para poder utilizarlos"
   ]
  },
  {
   "cell_type": "code",
   "execution_count": 1,
   "id": "8a8e520e",
   "metadata": {},
   "outputs": [],
   "source": [
    "%store -r apple_price\n",
    "%store -r microsoft_price\n",
    "%store -r twitter_price\n",
    "%store -r apple_earnings\n",
    "%store -r microsoft_earnings\n",
    "%store -r twitter_earnings"
   ]
  },
  {
   "cell_type": "code",
   "execution_count": 2,
   "id": "df77f88c",
   "metadata": {},
   "outputs": [],
   "source": [
    "import pandas as pd\n",
    "import warnings\n",
    "warnings.filterwarnings('ignore')"
   ]
  },
  {
   "cell_type": "code",
   "execution_count": 3,
   "id": "6a421c52",
   "metadata": {},
   "outputs": [
    {
     "name": "stderr",
     "output_type": "stream",
     "text": [
      "\n",
      "\n",
      "====== WebDriver manager ======\n",
      "Current google-chrome version is 100.0.4896\n",
      "Get LATEST chromedriver version for 100.0.4896 google-chrome\n",
      "Driver [/Users/danigomezlechonbarrachina/.wdm/drivers/chromedriver/mac64/100.0.4896.60/chromedriver] found in cache\n"
     ]
    }
   ],
   "source": [
    "from apifunctions import *"
   ]
  },
  {
   "cell_type": "code",
   "execution_count": 4,
   "id": "4dd373d5",
   "metadata": {},
   "outputs": [],
   "source": [
    "from apifunctions import quitar_dolar"
   ]
  },
  {
   "cell_type": "markdown",
   "id": "096b985b",
   "metadata": {},
   "source": [
    "## Tablas earnings"
   ]
  },
  {
   "cell_type": "markdown",
   "id": "5816c1d6",
   "metadata": {},
   "source": [
    "A estas tablas queremos quitarles el símbolo del dolar a los valores de EPS y queremos establecer los tipos de datos de las columnas"
   ]
  },
  {
   "cell_type": "code",
   "execution_count": 5,
   "id": "ce43c4c9",
   "metadata": {},
   "outputs": [],
   "source": [
    "earnings_list=[apple_earnings,microsoft_earnings,twitter_earnings]\n",
    "for i in earnings_list:\n",
    "    quitar_dolar(i)"
   ]
  },
  {
   "cell_type": "code",
   "execution_count": 6,
   "id": "0ea12f02",
   "metadata": {},
   "outputs": [],
   "source": [
    "# las columnas datetime se quedan como objeto no se muy bien por que, luego volvemos a esta función "
   ]
  },
  {
   "cell_type": "code",
   "execution_count": 7,
   "id": "935ba019",
   "metadata": {},
   "outputs": [],
   "source": [
    "\n",
    "for i in earnings_list:\n",
    "    cambiar_tipo_datos(i)"
   ]
  },
  {
   "cell_type": "markdown",
   "id": "d6c0de15",
   "metadata": {},
   "source": [
    "## Tablas price"
   ]
  },
  {
   "cell_type": "markdown",
   "id": "1e22fb2a",
   "metadata": {},
   "source": [
    "Primero quedemos poner todos los valores como float a excepción de la fecha"
   ]
  },
  {
   "cell_type": "code",
   "execution_count": 8,
   "id": "5ffba41f",
   "metadata": {},
   "outputs": [],
   "source": [
    "prices_list=[apple_price,twitter_price,microsoft_price]"
   ]
  },
  {
   "cell_type": "code",
   "execution_count": 9,
   "id": "9ad02e37",
   "metadata": {},
   "outputs": [],
   "source": [
    "for i in prices_list:\n",
    "    \n",
    "    cambiar_tipo_datos2(i)"
   ]
  },
  {
   "cell_type": "markdown",
   "id": "ac53c8eb",
   "metadata": {},
   "source": [
    "Ahora voy a añadir una columna que se llame price change que calcule como ha cambiado el precio respecto al precio de cierre del día anterior"
   ]
  },
  {
   "cell_type": "code",
   "execution_count": 10,
   "id": "b9cec438",
   "metadata": {},
   "outputs": [],
   "source": [
    "col_price_change(prices_list)"
   ]
  },
  {
   "cell_type": "markdown",
   "id": "237c450b",
   "metadata": {},
   "source": [
    "Vamos a redondear los valores a dos puntos decimales"
   ]
  },
  {
   "cell_type": "code",
   "execution_count": 11,
   "id": "53e0e5b4",
   "metadata": {},
   "outputs": [],
   "source": [
    "for j in range(len(prices_list)):\n",
    "    \n",
    "    columnas=prices_list[j].columns\n",
    "\n",
    "    for i in columnas:\n",
    "        \n",
    "        if i!=\"Date\":\n",
    "        \n",
    "            prices_list[j][i]=prices_list[j][i].round(decimals=2)\n",
    "    \n",
    "\n",
    "    "
   ]
  },
  {
   "cell_type": "code",
   "execution_count": 12,
   "id": "62a944bb",
   "metadata": {},
   "outputs": [],
   "source": [
    "prueba1=twitter_price[twitter_price[\"Price_change\"].abs()>6].head(5)"
   ]
  },
  {
   "cell_type": "code",
   "execution_count": 18,
   "id": "1c90397c",
   "metadata": {},
   "outputs": [],
   "source": [
    "for i in prueba1.Date:\n",
    "    \n",
    "    lista=[get_news_link(\"TWTR\",i)]\n"
   ]
  },
  {
   "cell_type": "code",
   "execution_count": 19,
   "id": "7df87b53",
   "metadata": {},
   "outputs": [
    {
     "data": {
      "text/plain": [
       "['https://fortune.com/2015/03/24/obama-chief-digital-officer/']"
      ]
     },
     "execution_count": 19,
     "metadata": {},
     "output_type": "execute_result"
    }
   ],
   "source": [
    "lista"
   ]
  },
  {
   "cell_type": "code",
   "execution_count": 20,
   "id": "45ff9eac",
   "metadata": {},
   "outputs": [],
   "source": [
    "def fun(path):\n",
    "    \n",
    "    # returns the final component of a url\n",
    "    f_url = o.path.basename(path)\n",
    "      \n",
    "    # convert the url into link\n",
    "    return '<a href=\"{}\">{}</a>'.format(path, f_url)"
   ]
  },
  {
   "cell_type": "code",
   "execution_count": 23,
   "id": "03f92897",
   "metadata": {},
   "outputs": [],
   "source": [
    "import os as o"
   ]
  },
  {
   "cell_type": "code",
   "execution_count": 26,
   "id": "e5cec359",
   "metadata": {},
   "outputs": [
    {
     "data": {
      "text/plain": [
       "'<a href=\"https://fortune.com/2015/03/24/obama-chief-digital-officer/\"></a>'"
      ]
     },
     "execution_count": 26,
     "metadata": {},
     "output_type": "execute_result"
    }
   ],
   "source": [
    "fun(\"https://fortune.com/2015/03/24/obama-chief-digital-officer/\")"
   ]
  },
  {
   "cell_type": "code",
   "execution_count": 27,
   "id": "a6b3a736",
   "metadata": {},
   "outputs": [
    {
     "data": {
      "text/html": [
       "<div>\n",
       "<style scoped>\n",
       "    .dataframe tbody tr th:only-of-type {\n",
       "        vertical-align: middle;\n",
       "    }\n",
       "\n",
       "    .dataframe tbody tr th {\n",
       "        vertical-align: top;\n",
       "    }\n",
       "\n",
       "    .dataframe thead th {\n",
       "        text-align: right;\n",
       "    }\n",
       "</style>\n",
       "<table border=\"1\" class=\"dataframe\">\n",
       "  <thead>\n",
       "    <tr style=\"text-align: right;\">\n",
       "      <th></th>\n",
       "      <th>Date</th>\n",
       "      <th>Open</th>\n",
       "      <th>High</th>\n",
       "      <th>Low</th>\n",
       "      <th>Close</th>\n",
       "      <th>Adj Close</th>\n",
       "      <th>Volume</th>\n",
       "      <th>Price_change</th>\n",
       "    </tr>\n",
       "  </thead>\n",
       "  <tbody>\n",
       "    <tr>\n",
       "      <th>2</th>\n",
       "      <td>01/06/2015</td>\n",
       "      <td>36.27</td>\n",
       "      <td>39.45</td>\n",
       "      <td>36.04</td>\n",
       "      <td>38.76</td>\n",
       "      <td>38.76</td>\n",
       "      <td>33050800.0</td>\n",
       "      <td>6.54</td>\n",
       "    </tr>\n",
       "    <tr>\n",
       "      <th>9</th>\n",
       "      <td>01/15/2015</td>\n",
       "      <td>39.70</td>\n",
       "      <td>39.70</td>\n",
       "      <td>36.86</td>\n",
       "      <td>36.93</td>\n",
       "      <td>36.93</td>\n",
       "      <td>23042000.0</td>\n",
       "      <td>-7.33</td>\n",
       "    </tr>\n",
       "    <tr>\n",
       "      <th>21</th>\n",
       "      <td>02/03/2015</td>\n",
       "      <td>38.00</td>\n",
       "      <td>40.19</td>\n",
       "      <td>37.69</td>\n",
       "      <td>39.79</td>\n",
       "      <td>39.79</td>\n",
       "      <td>28395400.0</td>\n",
       "      <td>6.22</td>\n",
       "    </tr>\n",
       "    <tr>\n",
       "      <th>24</th>\n",
       "      <td>02/06/2015</td>\n",
       "      <td>46.12</td>\n",
       "      <td>48.50</td>\n",
       "      <td>45.80</td>\n",
       "      <td>48.01</td>\n",
       "      <td>48.01</td>\n",
       "      <td>102973000.0</td>\n",
       "      <td>16.36</td>\n",
       "    </tr>\n",
       "    <tr>\n",
       "      <th>55</th>\n",
       "      <td>03/24/2015</td>\n",
       "      <td>48.67</td>\n",
       "      <td>51.79</td>\n",
       "      <td>48.54</td>\n",
       "      <td>51.47</td>\n",
       "      <td>51.47</td>\n",
       "      <td>38181800.0</td>\n",
       "      <td>6.21</td>\n",
       "    </tr>\n",
       "  </tbody>\n",
       "</table>\n",
       "</div>"
      ],
      "text/plain": [
       "          Date   Open   High    Low  Close  Adj Close       Volume  \\\n",
       "2   01/06/2015  36.27  39.45  36.04  38.76      38.76   33050800.0   \n",
       "9   01/15/2015  39.70  39.70  36.86  36.93      36.93   23042000.0   \n",
       "21  02/03/2015  38.00  40.19  37.69  39.79      39.79   28395400.0   \n",
       "24  02/06/2015  46.12  48.50  45.80  48.01      48.01  102973000.0   \n",
       "55  03/24/2015  48.67  51.79  48.54  51.47      51.47   38181800.0   \n",
       "\n",
       "    Price_change  \n",
       "2           6.54  \n",
       "9          -7.33  \n",
       "21          6.22  \n",
       "24         16.36  \n",
       "55          6.21  "
      ]
     },
     "execution_count": 27,
     "metadata": {},
     "output_type": "execute_result"
    }
   ],
   "source": [
    "prueba1"
   ]
  },
  {
   "cell_type": "code",
   "execution_count": null,
   "id": "5d71550e",
   "metadata": {},
   "outputs": [],
   "source": []
  }
 ],
 "metadata": {
  "kernelspec": {
   "display_name": "Ironhack",
   "language": "python",
   "name": "ironhack"
  },
  "language_info": {
   "codemirror_mode": {
    "name": "ipython",
    "version": 3
   },
   "file_extension": ".py",
   "mimetype": "text/x-python",
   "name": "python",
   "nbconvert_exporter": "python",
   "pygments_lexer": "ipython3",
   "version": "3.9.7"
  }
 },
 "nbformat": 4,
 "nbformat_minor": 5
}
