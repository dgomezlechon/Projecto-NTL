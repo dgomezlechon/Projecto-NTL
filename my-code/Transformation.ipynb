{
 "cells": [
  {
   "cell_type": "markdown",
   "id": "c5bd2db8",
   "metadata": {},
   "source": [
    "# Transformación de tablas"
   ]
  },
  {
   "cell_type": "markdown",
   "id": "f4ef3ec8",
   "metadata": {},
   "source": [
    "Llamos a los dataframes para poder utilizarlos"
   ]
  },
  {
   "cell_type": "code",
   "execution_count": 56,
   "id": "52fd4b56",
   "metadata": {},
   "outputs": [],
   "source": [
    "%store -r apple_price\n",
    "%store -r microsoft_price\n",
    "%store -r twitter_price\n",
    "%store -r apple_earnings\n",
    "%store -r microsoft_earnings\n",
    "%store -r twitter_earnings"
   ]
  },
  {
   "cell_type": "code",
   "execution_count": 57,
   "id": "7c9cf072",
   "metadata": {},
   "outputs": [],
   "source": [
    "import pandas as pd\n",
    "import warnings\n",
    "warnings.filterwarnings('ignore')"
   ]
  },
  {
   "cell_type": "code",
   "execution_count": 61,
   "id": "df424df5",
   "metadata": {},
   "outputs": [],
   "source": [
    "from apifunctions import *"
   ]
  },
  {
   "cell_type": "code",
   "execution_count": 59,
   "id": "f7fdd7bd",
   "metadata": {},
   "outputs": [],
   "source": [
    "from apifunctions import quitar_dolar"
   ]
  },
  {
   "cell_type": "markdown",
   "id": "b4a7013f",
   "metadata": {},
   "source": [
    "## Tablas earnings"
   ]
  },
  {
   "cell_type": "markdown",
   "id": "2dffe9ce",
   "metadata": {},
   "source": [
    "A estas tablas queremos quitarles el símbolo del dolar a los valores de EPS y queremos establecer los tipos de datos de las columnas"
   ]
  },
  {
   "cell_type": "code",
   "execution_count": null,
   "id": "d6eae213",
   "metadata": {},
   "outputs": [],
   "source": [
    "earnings_list=[apple_earnings,microsoft_earnings,twitter_earnings]\n",
    "for i in earnings_list:\n",
    "    quitar_dolar(i)"
   ]
  },
  {
   "cell_type": "code",
   "execution_count": 6,
   "id": "c147d395",
   "metadata": {},
   "outputs": [],
   "source": [
    "# las columnas datetime se quedan como objeto no se muy bien por que, luego volvemos a esta función "
   ]
  },
  {
   "cell_type": "code",
   "execution_count": 7,
   "id": "6d6029a4",
   "metadata": {},
   "outputs": [],
   "source": [
    "\n",
    "for i in earnings_list:\n",
    "    cambiar_tipo_datos(i)"
   ]
  },
  {
   "cell_type": "markdown",
   "id": "c720d47f",
   "metadata": {},
   "source": [
    "## Tablas price"
   ]
  },
  {
   "cell_type": "markdown",
   "id": "7b0da1b8",
   "metadata": {},
   "source": [
    "Primero quedemos poner todos los valores como float a excepción de la fecha"
   ]
  },
  {
   "cell_type": "code",
   "execution_count": 8,
   "id": "1b8a81da",
   "metadata": {},
   "outputs": [],
   "source": [
    "prices_list=[apple_price,twitter_price,microsoft_price]"
   ]
  },
  {
   "cell_type": "code",
   "execution_count": 9,
   "id": "c0870a64",
   "metadata": {},
   "outputs": [],
   "source": [
    "for i in prices_list:\n",
    "    \n",
    "    cambiar_tipo_datos2(i)"
   ]
  },
  {
   "cell_type": "markdown",
   "id": "6736be3a",
   "metadata": {},
   "source": [
    "Ahora voy a añadir una columna que se llame price change que calcule como ha cambiado el precio respecto al precio de cierre del día anterior"
   ]
  },
  {
   "cell_type": "code",
   "execution_count": 10,
   "id": "a4bfd129",
   "metadata": {},
   "outputs": [],
   "source": [
    "col_price_change(prices_list)"
   ]
  },
  {
   "cell_type": "markdown",
   "id": "994ae019",
   "metadata": {},
   "source": [
    "Vamos a redondear los valores a dos puntos decimales"
   ]
  },
  {
   "cell_type": "code",
   "execution_count": 11,
   "id": "25fe6066",
   "metadata": {},
   "outputs": [],
   "source": [
    "for j in range(len(prices_list)):\n",
    "    \n",
    "    columnas=prices_list[j].columns\n",
    "\n",
    "    for i in columnas:\n",
    "        \n",
    "        if i!=\"Date\":\n",
    "        \n",
    "            prices_list[j][i]=prices_list[j][i].round(decimals=2)\n",
    "    \n",
    "\n",
    "    "
   ]
  },
  {
   "cell_type": "code",
   "execution_count": 79,
   "id": "21755c50",
   "metadata": {},
   "outputs": [],
   "source": [
    "events_twitter=pd.DataFrame(twitter_price, columns = ['Date', 'Price_change'])\n",
    "events_twitter=events_twitter[events_twitter[\"Price_change\"].abs()>10]\n",
    "events_twitter.reset_index(drop=True,inplace=True)"
   ]
  },
  {
   "cell_type": "code",
   "execution_count": 80,
   "id": "68f22e1a",
   "metadata": {},
   "outputs": [],
   "source": [
    "events_apple=pd.DataFrame(apple_price, columns = ['Date', 'Price_change'])\n",
    "events_apple=events_apple[events_apple[\"Price_change\"].abs()>7]\n",
    "events_apple.reset_index(drop=True,inplace=True)"
   ]
  },
  {
   "cell_type": "code",
   "execution_count": 81,
   "id": "8f559a7f",
   "metadata": {},
   "outputs": [],
   "source": [
    "events_microsoft=pd.DataFrame(microsoft_price, columns = ['Date', 'Price_change'])\n",
    "events_microsoft=events_microsoft[events_microsoft[\"Price_change\"].abs()>7]\n",
    "events_microsoft.reset_index(drop=True,inplace=True)"
   ]
  },
  {
   "cell_type": "code",
   "execution_count": 88,
   "id": "569439ef",
   "metadata": {},
   "outputs": [],
   "source": [
    "events_microsoft['news_link']=\"unknown\"\n",
    "\n",
    "for i in range(len(events_microsoft)):\n",
    "    \n",
    "    events_microsoft['news_link'][i]=get_news_link(\"MSFT\",events_microsoft['Date'][i])\n",
    "    \n",
    "    \n"
   ]
  },
  {
   "cell_type": "code",
   "execution_count": 93,
   "id": "edd9b4c3",
   "metadata": {},
   "outputs": [],
   "source": [
    "events_microsoft=events_microsoft.style.format({'news_link': make_clickable})"
   ]
  },
  {
   "cell_type": "code",
   "execution_count": 28,
   "id": "5441368e",
   "metadata": {},
   "outputs": [],
   "source": [
    "apple_price.to_csv(\"../data/new_data/apple_price.csv\",index=False)\n",
    "twitter_price.to_csv(\"../data/new_data/twitter_price.csv\",index=False)\n",
    "microsoft_price.to_csv(\"../data/new_data/microsoft_price.csv\",index=False)\n",
    "apple_earnings.to_csv(\"../data/new_data/apple_earnings.csv\",index=False)\n",
    "twitter_earnings.to_csv(\"../data/new_data/twitter_earnings.csv\",index=False)\n",
    "microsoft_earnings.to_csv(\"../data/new_data/microsoft_earnings.csv\",index=False)"
   ]
  }
 ],
 "metadata": {
  "kernelspec": {
   "display_name": "Ironhack",
   "language": "python",
   "name": "ironhack"
  },
  "language_info": {
   "codemirror_mode": {
    "name": "ipython",
    "version": 3
   },
   "file_extension": ".py",
   "mimetype": "text/x-python",
   "name": "python",
   "nbconvert_exporter": "python",
   "pygments_lexer": "ipython3",
   "version": "3.9.7"
  }
 },
 "nbformat": 4,
 "nbformat_minor": 5
}
