{
 "cells": [
  {
   "cell_type": "markdown",
   "id": "69288fba",
   "metadata": {},
   "source": [
    "# Transformación de tablas"
   ]
  },
  {
   "cell_type": "markdown",
   "id": "81196bda",
   "metadata": {},
   "source": [
    "Llamos a los dataframes para poder utilizarlos"
   ]
  },
  {
   "cell_type": "code",
   "execution_count": 156,
   "id": "c5ddb13d",
   "metadata": {},
   "outputs": [],
   "source": [
    "%store -r apple_price\n",
    "%store -r microsoft_price\n",
    "%store -r twitter_price\n",
    "%store -r apple_earnings\n",
    "%store -r microsoft_earnings\n",
    "%store -r twitter_earnings"
   ]
  },
  {
   "cell_type": "code",
   "execution_count": 98,
   "id": "bab35b6e",
   "metadata": {},
   "outputs": [
    {
     "name": "stdout",
     "output_type": "stream",
     "text": [
      "Collecting joblib\n",
      "  Downloading joblib-1.1.0-py2.py3-none-any.whl (306 kB)\n",
      "\u001b[K     |████████████████████████████████| 306 kB 1.6 MB/s eta 0:00:01\n",
      "\u001b[?25hInstalling collected packages: joblib\n",
      "Successfully installed joblib-1.1.0\n",
      "Note: you may need to restart the kernel to use updated packages.\n"
     ]
    }
   ],
   "source": [
    "%pip install joblib"
   ]
  },
  {
   "cell_type": "code",
   "execution_count": 99,
   "id": "d6b57cb8",
   "metadata": {},
   "outputs": [],
   "source": [
    "import pandas as pd\n",
    "import warnings\n",
    "warnings.filterwarnings('ignore')\n",
    "from joblib import Parallel, delayed"
   ]
  },
  {
   "cell_type": "code",
   "execution_count": 153,
   "id": "708a2c0f",
   "metadata": {},
   "outputs": [],
   "source": [
    "from apifunctions import *"
   ]
  },
  {
   "cell_type": "markdown",
   "id": "0832a7ee",
   "metadata": {},
   "source": [
    "## Tablas earnings"
   ]
  },
  {
   "cell_type": "markdown",
   "id": "bcb47b77",
   "metadata": {},
   "source": [
    "A estas tablas queremos quitarles el símbolo del dolar a los valores de EPS y queremos establecer los tipos de datos de las columnas"
   ]
  },
  {
   "cell_type": "markdown",
   "id": "674b1b35",
   "metadata": {},
   "source": [
    "earnings_list=[apple_earnings,microsoft_earnings,twitter_earnings]\n",
    "for i in earnings_list:\n",
    "    quitar_dolar(i)"
   ]
  },
  {
   "cell_type": "code",
   "execution_count": 161,
   "id": "8ef249c7",
   "metadata": {},
   "outputs": [],
   "source": [
    "for i in range(len(apple_earnings[\"Estimated EPS\"])):\n",
    "    \n",
    "        apple_earnings[\"Estimated EPS\"][i]=apple_earnings[\"Estimated EPS\"][i].replace(\"$\",\"\") \n",
    "        apple_earnings[\"Actual EPS\"][i]=apple_earnings[\"Actual EPS\"][i].replace(\"$\",\"\") "
   ]
  },
  {
   "cell_type": "code",
   "execution_count": 157,
   "id": "40db047d",
   "metadata": {},
   "outputs": [],
   "source": [
    "for i in range(len(microsoft_earnings[\"Estimated EPS\"])):\n",
    "    \n",
    "        microsoft_earnings[\"Estimated EPS\"][i]=microsoft_earnings[\"Estimated EPS\"][i].replace(\"$\",\"\") \n",
    "        microsoft_earnings[\"Actual EPS\"][i]=microsoft_earnings[\"Actual EPS\"][i].replace(\"$\",\"\") "
   ]
  },
  {
   "cell_type": "code",
   "execution_count": 158,
   "id": "faeecbc4",
   "metadata": {},
   "outputs": [],
   "source": [
    "for i in range(len(twitter_earnings[\"Estimated EPS\"])):\n",
    "    \n",
    "        twitter_earnings[\"Estimated EPS\"][i]=twitter_earnings[\"Estimated EPS\"][i].replace(\"$\",\"\") \n",
    "        twitter_earnings[\"Actual EPS\"][i]=twitter_earnings[\"Actual EPS\"][i].replace(\"$\",\"\") "
   ]
  },
  {
   "cell_type": "code",
   "execution_count": 167,
   "id": "c806f079",
   "metadata": {},
   "outputs": [],
   "source": [
    "earnings_list=[apple_earnings,microsoft_earnings,twitter_earnings]\n",
    "for i in earnings_list:\n",
    "    cambiar_tipo_datos(i)"
   ]
  },
  {
   "cell_type": "markdown",
   "id": "c88c8812",
   "metadata": {},
   "source": [
    "## Tablas price"
   ]
  },
  {
   "cell_type": "markdown",
   "id": "6bea053a",
   "metadata": {},
   "source": [
    "Primero quedemos poner todos los valores como float a excepción de la fecha"
   ]
  },
  {
   "cell_type": "code",
   "execution_count": 8,
   "id": "be1731b7",
   "metadata": {},
   "outputs": [],
   "source": [
    "prices_list=[apple_price,twitter_price,microsoft_price]"
   ]
  },
  {
   "cell_type": "code",
   "execution_count": 9,
   "id": "b3018f1e",
   "metadata": {},
   "outputs": [],
   "source": [
    "for i in prices_list:\n",
    "    \n",
    "    cambiar_tipo_datos2(i)"
   ]
  },
  {
   "cell_type": "markdown",
   "id": "a16d2c31",
   "metadata": {},
   "source": [
    "Ahora voy a añadir una columna que se llame price change que calcule como ha cambiado el precio respecto al precio de cierre del día anterior"
   ]
  },
  {
   "cell_type": "code",
   "execution_count": 10,
   "id": "07f45ad9",
   "metadata": {},
   "outputs": [],
   "source": [
    "col_price_change(prices_list)"
   ]
  },
  {
   "cell_type": "markdown",
   "id": "e179e5e4",
   "metadata": {},
   "source": [
    "Vamos a redondear los valores a dos puntos decimales"
   ]
  },
  {
   "cell_type": "code",
   "execution_count": 11,
   "id": "831441a9",
   "metadata": {},
   "outputs": [],
   "source": [
    "for j in range(len(prices_list)):\n",
    "    \n",
    "    columnas=prices_list[j].columns\n",
    "\n",
    "    for i in columnas:\n",
    "        \n",
    "        if i!=\"Date\":\n",
    "        \n",
    "            prices_list[j][i]=prices_list[j][i].round(decimals=2)  "
   ]
  },
  {
   "cell_type": "markdown",
   "id": "72af3a40",
   "metadata": {},
   "source": [
    "## Tablas events"
   ]
  },
  {
   "cell_type": "code",
   "execution_count": 188,
   "id": "28b81403",
   "metadata": {},
   "outputs": [],
   "source": [
    "events_twitter=pd.DataFrame(twitter_price, columns = ['Date', 'Price_change'])\n",
    "events_twitter=events_twitter[events_twitter[\"Price_change\"].abs()>15]\n",
    "events_twitter.reset_index(drop=True,inplace=True)\n",
    "events_twitter['news_link']=\"unknown\""
   ]
  },
  {
   "cell_type": "code",
   "execution_count": 171,
   "id": "20d54619",
   "metadata": {},
   "outputs": [],
   "source": [
    "events_apple=pd.DataFrame(apple_price, columns = ['Date', 'Price_change'])\n",
    "events_apple=events_apple[events_apple[\"Price_change\"].abs()>7]\n",
    "events_apple.reset_index(drop=True,inplace=True)\n",
    "events_apple['news_link']=\"unknown\""
   ]
  },
  {
   "cell_type": "code",
   "execution_count": 172,
   "id": "2d25f6dd",
   "metadata": {},
   "outputs": [],
   "source": [
    "events_microsoft=pd.DataFrame(microsoft_price, columns = ['Date', 'Price_change'])\n",
    "events_microsoft=events_microsoft[events_microsoft[\"Price_change\"].abs()>7]\n",
    "events_microsoft.reset_index(drop=True,inplace=True)\n",
    "events_microsoft['news_link']=\"unknown\""
   ]
  },
  {
   "cell_type": "markdown",
   "id": "2537435a",
   "metadata": {},
   "source": [
    "Añadimos el link para una acción concreta en una fecha dada usando la función get_news_link:"
   ]
  },
  {
   "cell_type": "code",
   "execution_count": 174,
   "id": "e4b36287",
   "metadata": {},
   "outputs": [],
   "source": [
    "for i in range(len(events_microsoft)):\n",
    "    \n",
    "    events_microsoft['news_link'][i]=get_news_link(\"MSFT\",events_microsoft['Date'][i])\n",
    "    "
   ]
  },
  {
   "cell_type": "code",
   "execution_count": 190,
   "id": "eaa20b6f",
   "metadata": {},
   "outputs": [],
   "source": [
    "for i in range(len(events_twitter)):\n",
    "    \n",
    "    events_twitter['news_link'][i]=get_news_link(\"TWTR\",events_twitter['Date'][i])"
   ]
  },
  {
   "cell_type": "code",
   "execution_count": 177,
   "id": "7ecfdaad",
   "metadata": {},
   "outputs": [],
   "source": [
    "for i in range(len(events_apple)):\n",
    "    \n",
    "    events_apple['news_link'][i]=get_news_link(\"AAPL\",events_apple['Date'][i])"
   ]
  },
  {
   "cell_type": "markdown",
   "id": "692aaa57",
   "metadata": {},
   "source": [
    "Hacemos que los links sean clickables"
   ]
  },
  {
   "cell_type": "code",
   "execution_count": 93,
   "id": "90a1e5ef",
   "metadata": {},
   "outputs": [],
   "source": [
    "#events_microsoft=events_microsoft.style.format({'news_link': make_clickable})"
   ]
  },
  {
   "cell_type": "code",
   "execution_count": 106,
   "id": "c73f861b",
   "metadata": {},
   "outputs": [],
   "source": [
    "#events_twitter=events_twitter.style.format({'news_link': make_clickable})"
   ]
  },
  {
   "cell_type": "code",
   "execution_count": 114,
   "id": "330f2069",
   "metadata": {},
   "outputs": [],
   "source": [
    "#events_apple=events_apple.style.format({'news_link': make_clickable})"
   ]
  },
  {
   "cell_type": "markdown",
   "id": "775c4965",
   "metadata": {},
   "source": [
    "Exportamos los csv:"
   ]
  },
  {
   "cell_type": "code",
   "execution_count": 169,
   "id": "5bea69c9",
   "metadata": {},
   "outputs": [],
   "source": [
    "apple_price.to_csv(\"../data/new_data/apple_price.csv\",index=False)\n",
    "twitter_price.to_csv(\"../data/new_data/twitter_price.csv\",index=False)\n",
    "microsoft_price.to_csv(\"../data/new_data/microsoft_price.csv\",index=False)\n",
    "apple_earnings.to_csv(\"../data/new_data/apple_earnings.csv\",index=False)\n",
    "twitter_earnings.to_csv(\"../data/new_data/twitter_earnings.csv\",index=False)\n",
    "microsoft_earnings.to_csv(\"../data/new_data/microsoft_earnings.csv\",index=False)"
   ]
  },
  {
   "cell_type": "code",
   "execution_count": 193,
   "id": "686f0e0e",
   "metadata": {},
   "outputs": [],
   "source": [
    "events_apple.to_csv(\"../data/new_data/events_apple.csv\",index=False)\n",
    "events_twitter.to_csv(\"../data/new_data/events_twitter.csv\",index=False)\n",
    "events_microsoft.to_csv(\"../data/new_data/events_microsoft.csv\",index=False)"
   ]
  },
  {
   "cell_type": "code",
   "execution_count": null,
   "id": "fefd3685",
   "metadata": {},
   "outputs": [],
   "source": [
    "#pip install openpyxl"
   ]
  },
  {
   "cell_type": "code",
   "execution_count": null,
   "id": "025f4c97",
   "metadata": {},
   "outputs": [],
   "source": [
    "#conda install -c anaconda openpyxl"
   ]
  },
  {
   "cell_type": "markdown",
   "id": "7deb2ed5",
   "metadata": {},
   "source": [
    "lst_df=Parallel(n_jobs=8, verbose=True)(delayed(extraer_links)(url) for url in equipos_stats_urls[:2])\n",
    "        "
   ]
  },
  {
   "cell_type": "markdown",
   "id": "0ddc829e",
   "metadata": {},
   "source": [
    "def extraer links(data):\n",
    "    lista=[]\n",
    "    events=pd.DataFrame(data, columns = ['Date', 'Price_change'])\n",
    "    events=events[events[\"Price_change\"].abs()>7]\n",
    "    events.reset_index(drop=True,inplace=True)\n",
    "    events['news_link']=\"unknown\"\n",
    "\n",
    "    for i in range(len(events)):\n",
    "    \n",
    "        events['news_link'][i]=get_news_link(\"MSFT\",events['Date'][i])\n",
    "    \n",
    "    "
   ]
  },
  {
   "cell_type": "code",
   "execution_count": null,
   "id": "fbab53d3",
   "metadata": {},
   "outputs": [],
   "source": []
  }
 ],
 "metadata": {
  "kernelspec": {
   "display_name": "Ironhack",
   "language": "python",
   "name": "ironhack"
  },
  "language_info": {
   "codemirror_mode": {
    "name": "ipython",
    "version": 3
   },
   "file_extension": ".py",
   "mimetype": "text/x-python",
   "name": "python",
   "nbconvert_exporter": "python",
   "pygments_lexer": "ipython3",
   "version": "3.9.7"
  }
 },
 "nbformat": 4,
 "nbformat_minor": 5
}
