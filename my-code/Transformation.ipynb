{
 "cells": [
  {
   "cell_type": "markdown",
   "id": "3095fe16",
   "metadata": {},
   "source": [
    "# Transformación de tablas"
   ]
  },
  {
   "cell_type": "markdown",
   "id": "895baf07",
   "metadata": {},
   "source": [
    "Llamos a los dataframes para poder utilizarlos"
   ]
  },
  {
   "cell_type": "code",
   "execution_count": 56,
   "id": "fe212b71",
   "metadata": {},
   "outputs": [],
   "source": [
    "%store -r apple_price\n",
    "%store -r microsoft_price\n",
    "%store -r twitter_price\n",
    "%store -r apple_earnings\n",
    "%store -r microsoft_earnings\n",
    "%store -r twitter_earnings"
   ]
  },
  {
   "cell_type": "code",
   "execution_count": 98,
   "id": "6e8cf304",
   "metadata": {},
   "outputs": [
    {
     "name": "stdout",
     "output_type": "stream",
     "text": [
      "Collecting joblib\n",
      "  Downloading joblib-1.1.0-py2.py3-none-any.whl (306 kB)\n",
      "\u001b[K     |████████████████████████████████| 306 kB 1.6 MB/s eta 0:00:01\n",
      "\u001b[?25hInstalling collected packages: joblib\n",
      "Successfully installed joblib-1.1.0\n",
      "Note: you may need to restart the kernel to use updated packages.\n"
     ]
    }
   ],
   "source": [
    "%pip install joblib"
   ]
  },
  {
   "cell_type": "code",
   "execution_count": 99,
   "id": "52e1c5e8",
   "metadata": {},
   "outputs": [],
   "source": [
    "import pandas as pd\n",
    "import warnings\n",
    "warnings.filterwarnings('ignore')\n",
    "from joblib import Parallel, delayed"
   ]
  },
  {
   "cell_type": "code",
   "execution_count": 61,
   "id": "0c6dfdb9",
   "metadata": {},
   "outputs": [],
   "source": [
    "from apifunctions import *"
   ]
  },
  {
   "cell_type": "markdown",
   "id": "5b7a04fd",
   "metadata": {},
   "source": [
    "## Tablas earnings"
   ]
  },
  {
   "cell_type": "markdown",
   "id": "5b713ba8",
   "metadata": {},
   "source": [
    "A estas tablas queremos quitarles el símbolo del dolar a los valores de EPS y queremos establecer los tipos de datos de las columnas"
   ]
  },
  {
   "cell_type": "code",
   "execution_count": null,
   "id": "8af6eb9d",
   "metadata": {},
   "outputs": [],
   "source": [
    "earnings_list=[apple_earnings,microsoft_earnings,twitter_earnings]\n",
    "for i in earnings_list:\n",
    "    quitar_dolar(i)"
   ]
  },
  {
   "cell_type": "code",
   "execution_count": 6,
   "id": "edaa8d4b",
   "metadata": {},
   "outputs": [],
   "source": [
    "# las columnas datetime se quedan como objeto no se muy bien por que, luego volvemos a esta función "
   ]
  },
  {
   "cell_type": "code",
   "execution_count": 7,
   "id": "7664908c",
   "metadata": {},
   "outputs": [],
   "source": [
    "\n",
    "for i in earnings_list:\n",
    "    cambiar_tipo_datos(i)"
   ]
  },
  {
   "cell_type": "markdown",
   "id": "9766e644",
   "metadata": {},
   "source": [
    "## Tablas price"
   ]
  },
  {
   "cell_type": "markdown",
   "id": "72331f10",
   "metadata": {},
   "source": [
    "Primero quedemos poner todos los valores como float a excepción de la fecha"
   ]
  },
  {
   "cell_type": "code",
   "execution_count": 8,
   "id": "63a0c49d",
   "metadata": {},
   "outputs": [],
   "source": [
    "prices_list=[apple_price,twitter_price,microsoft_price]"
   ]
  },
  {
   "cell_type": "code",
   "execution_count": 9,
   "id": "68aa3cea",
   "metadata": {},
   "outputs": [],
   "source": [
    "for i in prices_list:\n",
    "    \n",
    "    cambiar_tipo_datos2(i)"
   ]
  },
  {
   "cell_type": "markdown",
   "id": "6f44a7d1",
   "metadata": {},
   "source": [
    "Ahora voy a añadir una columna que se llame price change que calcule como ha cambiado el precio respecto al precio de cierre del día anterior"
   ]
  },
  {
   "cell_type": "code",
   "execution_count": 10,
   "id": "7f59eef2",
   "metadata": {},
   "outputs": [],
   "source": [
    "col_price_change(prices_list)"
   ]
  },
  {
   "cell_type": "markdown",
   "id": "f84636da",
   "metadata": {},
   "source": [
    "Vamos a redondear los valores a dos puntos decimales"
   ]
  },
  {
   "cell_type": "code",
   "execution_count": 11,
   "id": "349f818e",
   "metadata": {},
   "outputs": [],
   "source": [
    "for j in range(len(prices_list)):\n",
    "    \n",
    "    columnas=prices_list[j].columns\n",
    "\n",
    "    for i in columnas:\n",
    "        \n",
    "        if i!=\"Date\":\n",
    "        \n",
    "            prices_list[j][i]=prices_list[j][i].round(decimals=2)  "
   ]
  },
  {
   "cell_type": "code",
   "execution_count": 79,
   "id": "1b8831d9",
   "metadata": {},
   "outputs": [],
   "source": [
    "events_twitter=pd.DataFrame(twitter_price, columns = ['Date', 'Price_change'])\n",
    "events_twitter=events_twitter[events_twitter[\"Price_change\"].abs()>10]\n",
    "events_twitter.reset_index(drop=True,inplace=True)\n",
    "events_twitter['news_link']=\"unknown\""
   ]
  },
  {
   "cell_type": "code",
   "execution_count": 111,
   "id": "08eeb8df",
   "metadata": {},
   "outputs": [],
   "source": [
    "events_apple=pd.DataFrame(apple_price, columns = ['Date', 'Price_change'])\n",
    "events_apple=events_apple[events_apple[\"Price_change\"].abs()>7]\n",
    "events_apple.reset_index(drop=True,inplace=True)\n",
    "events_apple['news_link']=\"unknown\""
   ]
  },
  {
   "cell_type": "code",
   "execution_count": 81,
   "id": "82658c38",
   "metadata": {},
   "outputs": [],
   "source": [
    "events_microsoft=pd.DataFrame(microsoft_price, columns = ['Date', 'Price_change'])\n",
    "events_microsoft=events_microsoft[events_microsoft[\"Price_change\"].abs()>7]\n",
    "events_microsoft.reset_index(drop=True,inplace=True)\n",
    "events_microsoft['news_link']=\"unknown\""
   ]
  },
  {
   "cell_type": "code",
   "execution_count": null,
   "id": "0e1fe747",
   "metadata": {},
   "outputs": [],
   "source": [
    "events_microsoft['news_link']=\"unknown\"\n",
    "\n",
    "for i in range(len(events_microsoft)):\n",
    "    \n",
    "    events_microsoft['news_link'][i]=get_news_link(\"MSFT\",events_microsoft['Date'][i])\n",
    "    "
   ]
  },
  {
   "cell_type": "code",
   "execution_count": 93,
   "id": "cf35af31",
   "metadata": {},
   "outputs": [],
   "source": [
    "events_microsoft=events_microsoft.style.format({'news_link': make_clickable})"
   ]
  },
  {
   "cell_type": "code",
   "execution_count": 105,
   "id": "aa1c0263",
   "metadata": {},
   "outputs": [],
   "source": [
    "for i in range(len(events_twitter)):\n",
    "    \n",
    "    events_twitter['news_link'][i]=get_news_link(\"TWTR\",events_twitter['Date'][i])"
   ]
  },
  {
   "cell_type": "code",
   "execution_count": 106,
   "id": "feecf005",
   "metadata": {},
   "outputs": [],
   "source": [
    "events_twitter=events_twitter.style.format({'news_link': make_clickable})"
   ]
  },
  {
   "cell_type": "code",
   "execution_count": 113,
   "id": "f356264a",
   "metadata": {},
   "outputs": [],
   "source": [
    "for i in range(len(events_apple)):\n",
    "    \n",
    "    events_apple['news_link'][i]=get_news_link(\"AAPL\",events_apple['Date'][i])"
   ]
  },
  {
   "cell_type": "code",
   "execution_count": 114,
   "id": "ef861aa7",
   "metadata": {},
   "outputs": [],
   "source": [
    "events_apple=events_apple.style.format({'news_link': make_clickable})"
   ]
  },
  {
   "cell_type": "code",
   "execution_count": 28,
   "id": "e53c8bea",
   "metadata": {},
   "outputs": [],
   "source": [
    "apple_price.to_csv(\"../data/new_data/apple_price.csv\",index=False)\n",
    "twitter_price.to_csv(\"../data/new_data/twitter_price.csv\",index=False)\n",
    "microsoft_price.to_csv(\"../data/new_data/microsoft_price.csv\",index=False)\n",
    "apple_earnings.to_csv(\"../data/new_data/apple_earnings.csv\",index=False)\n",
    "twitter_earnings.to_csv(\"../data/new_data/twitter_earnings.csv\",index=False)\n",
    "microsoft_earnings.to_csv(\"../data/new_data/microsoft_earnings.csv\",index=False)"
   ]
  },
  {
   "cell_type": "code",
   "execution_count": 122,
   "id": "18c7bb22",
   "metadata": {},
   "outputs": [
    {
     "name": "stdout",
     "output_type": "stream",
     "text": [
      "Collecting openpyxl\n",
      "  Downloading openpyxl-3.0.9-py2.py3-none-any.whl (242 kB)\n",
      "\u001b[K     |████████████████████████████████| 242 kB 5.7 MB/s eta 0:00:01\n",
      "\u001b[?25hCollecting et-xmlfile\n",
      "  Downloading et_xmlfile-1.1.0-py3-none-any.whl (4.7 kB)\n",
      "Installing collected packages: et-xmlfile, openpyxl\n",
      "Successfully installed et-xmlfile-1.1.0 openpyxl-3.0.9\n",
      "Note: you may need to restart the kernel to use updated packages.\n"
     ]
    }
   ],
   "source": [
    "pip install openpyxl"
   ]
  },
  {
   "cell_type": "code",
   "execution_count": 123,
   "id": "3ba82420",
   "metadata": {},
   "outputs": [
    {
     "name": "stdout",
     "output_type": "stream",
     "text": [
      "Collecting package metadata (current_repodata.json): done\n",
      "Solving environment: done\n",
      "\n",
      "\n",
      "==> WARNING: A newer version of conda exists. <==\n",
      "  current version: 4.10.3\n",
      "  latest version: 4.12.0\n",
      "\n",
      "Please update conda by running\n",
      "\n",
      "    $ conda update -n base -c defaults conda\n",
      "\n",
      "\n",
      "\n",
      "## Package Plan ##\n",
      "\n",
      "  environment location: /Users/danigomezlechonbarrachina/opt/anaconda3/envs/Ironhack\n",
      "\n",
      "  added / updated specs:\n",
      "    - openpyxl\n",
      "\n",
      "\n",
      "The following packages will be downloaded:\n",
      "\n",
      "    package                    |            build\n",
      "    ---------------------------|-----------------\n",
      "    ca-certificates-2020.10.14 |                0         127 KB  anaconda\n",
      "    et_xmlfile-1.0.1           |          py_1001          11 KB  anaconda\n",
      "    jdcal-1.4.1                |             py_0          11 KB  anaconda\n",
      "    openpyxl-3.0.5             |             py_0         153 KB  anaconda\n",
      "    ------------------------------------------------------------\n",
      "                                           Total:         302 KB\n",
      "\n",
      "The following NEW packages will be INSTALLED:\n",
      "\n",
      "  et_xmlfile         anaconda/noarch::et_xmlfile-1.0.1-py_1001\n",
      "  jdcal              anaconda/noarch::jdcal-1.4.1-py_0\n",
      "  openpyxl           anaconda/noarch::openpyxl-3.0.5-py_0\n",
      "\n",
      "The following packages will be SUPERSEDED by a higher-priority channel:\n",
      "\n",
      "  ca-certificates    pkgs/main::ca-certificates-2022.3.29-~ --> anaconda::ca-certificates-2020.10.14-0\n",
      "\n",
      "\n",
      "\n",
      "Downloading and Extracting Packages\n",
      "et_xmlfile-1.0.1     | 11 KB     | ##################################### | 100% \n",
      "openpyxl-3.0.5       | 153 KB    | ##################################### | 100% \n",
      "jdcal-1.4.1          | 11 KB     | ##################################### | 100% \n",
      "ca-certificates-2020 | 127 KB    | ##################################### | 100% \n",
      "Preparing transaction: done\n",
      "Verifying transaction: done\n",
      "Executing transaction: done\n",
      "\n",
      "Note: you may need to restart the kernel to use updated packages.\n"
     ]
    }
   ],
   "source": [
    "conda install -c anaconda openpyxl"
   ]
  },
  {
   "cell_type": "code",
   "execution_count": 124,
   "id": "da0b7608",
   "metadata": {},
   "outputs": [],
   "source": [
    "events_apple.to_excel(\"../data/new_data/events_apple.xlsx\",index=False)\n",
    "events_twitter.to_excel(\"../data/new_data/events_twitter.xlsx\",index=False)\n",
    "events_microsoft.to_excel(\"../data/new_data/events_microsoft.xlsx\",index=False)"
   ]
  },
  {
   "cell_type": "markdown",
   "id": "8ec45f77",
   "metadata": {},
   "source": [
    "lst_df=Parallel(n_jobs=8, verbose=True)(delayed(extraer_links)(url) for url in equipos_stats_urls[:2])\n",
    "        "
   ]
  },
  {
   "cell_type": "markdown",
   "id": "67531ac8",
   "metadata": {},
   "source": [
    "def extraer links(data):\n",
    "    lista=[]\n",
    "    events=pd.DataFrame(data, columns = ['Date', 'Price_change'])\n",
    "    events=events[events[\"Price_change\"].abs()>7]\n",
    "    events.reset_index(drop=True,inplace=True)\n",
    "    events['news_link']=\"unknown\"\n",
    "\n",
    "    for i in range(len(events)):\n",
    "    \n",
    "        events['news_link'][i]=get_news_link(\"MSFT\",events['Date'][i])\n",
    "    \n",
    "    "
   ]
  },
  {
   "cell_type": "code",
   "execution_count": null,
   "id": "18255c5e",
   "metadata": {},
   "outputs": [],
   "source": []
  }
 ],
 "metadata": {
  "kernelspec": {
   "display_name": "Ironhack",
   "language": "python",
   "name": "ironhack"
  },
  "language_info": {
   "codemirror_mode": {
    "name": "ipython",
    "version": 3
   },
   "file_extension": ".py",
   "mimetype": "text/x-python",
   "name": "python",
   "nbconvert_exporter": "python",
   "pygments_lexer": "ipython3",
   "version": "3.9.7"
  }
 },
 "nbformat": 4,
 "nbformat_minor": 5
}
