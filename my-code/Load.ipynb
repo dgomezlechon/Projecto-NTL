{
 "cells": [
  {
   "cell_type": "markdown",
   "id": "cf5732fa",
   "metadata": {},
   "source": [
    "# Data Loading"
   ]
  },
  {
   "cell_type": "markdown",
   "id": "e4215de0",
   "metadata": {},
   "source": [
    "Voy a crear una base de datos con las nueve tablas y sus relaciones"
   ]
  },
  {
   "cell_type": "code",
   "execution_count": 1,
   "id": "c8d84743",
   "metadata": {},
   "outputs": [],
   "source": [
    "import pandas as pd\n",
    "import numpy as np"
   ]
  },
  {
   "cell_type": "code",
   "execution_count": 2,
   "id": "3bed6be3",
   "metadata": {},
   "outputs": [],
   "source": [
    "import mysql.connector as conn\n",
    "import pymysql\n",
    "from sqlalchemy import create_engine"
   ]
  },
  {
   "cell_type": "code",
   "execution_count": 3,
   "id": "0d7f4b4a",
   "metadata": {},
   "outputs": [],
   "source": [
    "import random"
   ]
  },
  {
   "cell_type": "code",
   "execution_count": 7,
   "id": "b06d8cf8",
   "metadata": {},
   "outputs": [],
   "source": [
    "apple_price = pd.read_csv(\"../data/new_data/apple_price.csv\")\n",
    "twitter_price = pd.read_csv(\"../data/new_data/twitter_price.csv\")\n",
    "microsoft_price = pd.read_csv(\"../data/new_data/microsoft_price.csv\")\n",
    "apple_earnings = pd.read_csv(\"../data/new_data/apple_earnings.csv\")\n",
    "twitter_earnings = pd.read_csv(\"../data/new_data/twitter_earnings.csv\")\n",
    "microsoft_earnings = pd.read_csv(\"../data/new_data/microsoft_earnings.csv\")\n",
    "twitter_events = pd.read_excel(\"../data/new_data/events_twitter.xlsx\")\n",
    "apple_events = pd.read_excel(\"../data/new_data/events_apple.xlsx\")\n",
    "microsoft_events = pd.read_excel(\"../data/new_data/events_microsoft.xlsx\")"
   ]
  },
  {
   "cell_type": "code",
   "execution_count": null,
   "id": "fb469fba",
   "metadata": {},
   "outputs": [],
   "source": [
    "# open a file\n",
    "file = open(\"../password.txt\")\n",
    "  \n",
    "# read the content of the file opened\n",
    "content = file.readlines()\n",
    "  \n",
    "token=content[0]"
   ]
  }
 ],
 "metadata": {
  "kernelspec": {
   "display_name": "Ironhack",
   "language": "python",
   "name": "ironhack"
  },
  "language_info": {
   "codemirror_mode": {
    "name": "ipython",
    "version": 3
   },
   "file_extension": ".py",
   "mimetype": "text/x-python",
   "name": "python",
   "nbconvert_exporter": "python",
   "pygments_lexer": "ipython3",
   "version": "3.9.7"
  }
 },
 "nbformat": 4,
 "nbformat_minor": 5
}
